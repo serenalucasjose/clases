





def saludar(nombre="Mundo"):
    print(f"Hola, {nombre}!")

saludar()
saludar("Lucía")





'''
A partir de una lista de frutas, se busca una nueva lista que contenga solo las frutas con la letra "a" en el nombre.

Sin comprensión de listas, se deberá escribir una sentencia "for" con una prueba condicional dentro:
'''
fruits = ["apple", "banana", "cherry", "kiwi", "mango"]
newlist = []

for x in fruits:
  if "a" in x:
    newlist.append(x)

print(newlist) 
'''
Con la comprensión de listas puedes hacer todo eso con solo una línea de código:
'''
fruits = ["apple", "banana", "cherry", "kiwi", "mango"]

newlist = [x for x in fruits if "a" in x]

print(newlist) 





cuadrados = [x**2 for x in range(5)]
print(cuadrados)





pares = [x for x in range(10) if x % 2 == 0]
print(pares)








def bubble_sort(a_list):
    list_length = len(a_list) - 1
    for i in range(list_length):
        for j in range(list_length):
            if a_list[j] > a_list[j + 1]:
                a_list[j], a_list[j + 1] = a_list[j + 1], a_list[j]
    return a_list

list1 = [32, 1, 9, 6]
bubble_sort(list1)





lista = [1, 2, 2, 3, 4, 4, 5]
conjunto = set(lista)
print(conjunto)  # {1, 2, 3, 4, 5}


# Intersección de conjuntos
set1 = {1, 2, 3}
set2 = {2, 3, 4}
print(set1 & set2)  # {2, 3}








# Ejemplo: [0,1,0,3,12] -> [1,3,12,0,0]
# Tu código aquí





# Ejemplo: [1,2,2,3,4,4,5] -> [2,4]
# Tu código aquí





# Ejemplo: [1,2,3] y [2,3,4] -> [2,3]
# Tu código aquí





# Tu código aquí
