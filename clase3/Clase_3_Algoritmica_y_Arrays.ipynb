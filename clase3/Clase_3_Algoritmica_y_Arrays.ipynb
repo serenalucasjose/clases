{
 "cells": [
  {
   "cell_type": "markdown",
   "id": "7aef3f91",
   "metadata": {},
   "source": [
    "# Clase 3: Algorítmica y Arrays"
   ]
  },
  {
   "cell_type": "markdown",
   "id": "289b0413",
   "metadata": {},
   "source": [
    "## 1. Parámetros por defecto en funciones\n",
    "Podemos definir valores por defecto para que no siempre tengamos que pasar todos los argumentos."
   ]
  },
  {
   "cell_type": "code",
   "execution_count": null,
   "id": "c2dbe920",
   "metadata": {},
   "outputs": [],
   "source": [
    "def saludar(nombre=\"Mundo\"):\n",
    "    print(f\"Hola, {nombre}!\")\n",
    "\n",
    "saludar()\n",
    "saludar(\"Lucía\")"
   ]
  },
  {
   "cell_type": "markdown",
   "id": "f347c2cb",
   "metadata": {},
   "source": [
    "## 2. List Comprehension\n",
    "La comprensión de listas ofrece una sintaxis más corta cuando se desea crear una nueva lista basada en los valores de una lista existente.\n",
    "\n",
    "Ejemplo:"
   ]
  },
  {
   "cell_type": "code",
   "execution_count": 2,
   "id": "cb45844e-d9cd-44d8-a55b-d5e8aea36dac",
   "metadata": {},
   "outputs": [
    {
     "name": "stdout",
     "output_type": "stream",
     "text": [
      "['apple', 'banana', 'mango']\n",
      "['apple', 'banana', 'mango']\n"
     ]
    }
   ],
   "source": [
    "'''\n",
    "A partir de una lista de frutas, se busca una nueva lista que contenga solo las frutas con la letra \"a\" en el nombre.\n",
    "\n",
    "Sin comprensión de listas, se deberá escribir una sentencia \"for\" con una prueba condicional dentro:\n",
    "'''\n",
    "fruits = [\"apple\", \"banana\", \"cherry\", \"kiwi\", \"mango\"]\n",
    "newlist = []\n",
    "\n",
    "for x in fruits:\n",
    "  if \"a\" in x:\n",
    "    newlist.append(x)\n",
    "\n",
    "print(newlist) \n",
    "'''\n",
    "Con la comprensión de listas puedes hacer todo eso con solo una línea de código:\n",
    "'''\n",
    "fruits = [\"apple\", \"banana\", \"cherry\", \"kiwi\", \"mango\"]\n",
    "\n",
    "newlist = [x for x in fruits if \"a\" in x]\n",
    "\n",
    "print(newlist) "
   ]
  },
  {
   "cell_type": "markdown",
   "id": "34b621ae-4398-4b4e-b0c8-b0c8378eef1d",
   "metadata": {},
   "source": [
    "Mas ejemplos:"
   ]
  },
  {
   "cell_type": "code",
   "execution_count": null,
   "id": "d63edcbd",
   "metadata": {},
   "outputs": [],
   "source": [
    "cuadrados = [x**2 for x in range(5)]\n",
    "print(cuadrados)"
   ]
  },
  {
   "cell_type": "markdown",
   "id": "0900b85a",
   "metadata": {},
   "source": [
    "Podemos usar condiciones dentro del list comprehension:"
   ]
  },
  {
   "cell_type": "code",
   "execution_count": null,
   "id": "3ee70e56",
   "metadata": {},
   "outputs": [],
   "source": [
    "pares = [x for x in range(10) if x % 2 == 0]\n",
    "print(pares)"
   ]
  },
  {
   "cell_type": "markdown",
   "id": "34527e72-1dea-4662-a0a5-32c9eb8530de",
   "metadata": {},
   "source": [
    "## 3. Algoritmos de ordenamiento\n",
    "\n",
    "Además de buscar datos, a menudo vas a ordenarlos. Ordenar datos significa organizarlos de forma coherente. Por ejemplo, si tienes una lista de números, podrías ordenarlos del menor al mayor (en orden ascendente). O imagina que estás creando una aplicación que registra los libros que ha leído cada usuario. En una aplicación como esta, podrías permitir que el usuario vea sus libros ordenados de diferentes maneras. Por ejemplo, podrías darle la opción de verlos ordenados del libro más corto al más largo, del más antiguo al más nuevo o del más nuevo al más antiguo.\n",
    "Existen muchos algoritmos de ordenación diferentes para ayudarte a ordenar datos, cada uno con sus ventajas y desventajas.\n",
    "Por ejemplo, algunos algoritmos de ordenación funcionan mejor en situaciones específicas, como cuando un iterable está casi ordenado."
   ]
  },
  {
   "cell_type": "markdown",
   "id": "699b2769",
   "metadata": {},
   "source": [
    "## 4. Bubble Sort\n",
    "El ordenamiento de burbuja es un algoritmo de ordenamiento que itera sobre una lista de números, compara cada número con el siguiente y los intercambia si están desordenados. Los informáticos lo llaman ordenamiento de burbuja porque los números con los valores más altos \"burbujean\" hasta el final de la lista, y los números con los valores más bajos se mueven al principio a medida que avanza el algoritmo.\n",
    "\n",
    "Idea: recorrer la lista varias veces y \"empujar\" los elementos grandes al final."
   ]
  },
  {
   "cell_type": "code",
   "execution_count": 4,
   "id": "7dc0b8f7",
   "metadata": {},
   "outputs": [
    {
     "data": {
      "text/plain": [
       "[1, 6, 9, 32]"
      ]
     },
     "execution_count": 4,
     "metadata": {},
     "output_type": "execute_result"
    }
   ],
   "source": [
    "def bubble_sort(a_list):\n",
    "    list_length = len(a_list) - 1\n",
    "    for i in range(list_length):\n",
    "        for j in range(list_length):\n",
    "            if a_list[j] > a_list[j + 1]:\n",
    "                a_list[j], a_list[j + 1] = a_list[j + 1], a_list[j]\n",
    "    return a_list\n",
    "\n",
    "list1 = [32, 1, 9, 6]\n",
    "bubble_sort(list1)"
   ]
  },
  {
   "cell_type": "markdown",
   "id": "44d1e6e4",
   "metadata": {},
   "source": [
    "## 5. Sets\n",
    "Un **set** es una colección sin elementos duplicados. Se puede usar para:\n",
    "- eliminar duplicados\n",
    "- comparar conjuntos\n",
    "- hacer intersecciones rápidamente"
   ]
  },
  {
   "cell_type": "code",
   "execution_count": null,
   "id": "3799fbf0",
   "metadata": {},
   "outputs": [],
   "source": [
    "lista = [1, 2, 2, 3, 4, 4, 5]\n",
    "conjunto = set(lista)\n",
    "print(conjunto)  # {1, 2, 3, 4, 5}"
   ]
  },
  {
   "cell_type": "code",
   "execution_count": null,
   "id": "04995eb2",
   "metadata": {},
   "outputs": [],
   "source": [
    "# Intersección de conjuntos\n",
    "set1 = {1, 2, 3}\n",
    "set2 = {2, 3, 4}\n",
    "print(set1 & set2)  # {2, 3}"
   ]
  },
  {
   "cell_type": "markdown",
   "id": "c6917970",
   "metadata": {},
   "source": [
    "## 6. Ejercicios\n"
   ]
  },
  {
   "cell_type": "markdown",
   "id": "a17f608e",
   "metadata": {},
   "source": [
    "### Ejercicio 1\n",
    "Crear una función que mueva todos los ceros al final de una lista, sin alterar el orden de los elementos no nulos."
   ]
  },
  {
   "cell_type": "code",
   "execution_count": null,
   "id": "b5f4d60d",
   "metadata": {},
   "outputs": [],
   "source": [
    "# Ejemplo: [0,1,0,3,12] -> [1,3,12,0,0]\n",
    "# Tu código aquí"
   ]
  },
  {
   "cell_type": "markdown",
   "id": "2b915eae",
   "metadata": {},
   "source": [
    "### Ejercicio 2\n",
    "Crear una función que devuelva los elementos duplicados de una lista."
   ]
  },
  {
   "cell_type": "code",
   "execution_count": null,
   "id": "a37afe7c",
   "metadata": {},
   "outputs": [],
   "source": [
    "# Ejemplo: [1,2,2,3,4,4,5] -> [2,4]\n",
    "# Tu código aquí"
   ]
  },
  {
   "cell_type": "markdown",
   "id": "f203956c",
   "metadata": {},
   "source": [
    "### Ejercicio 3\n",
    "Dadas dos listas, encontrar la intersección usando comprension de listas."
   ]
  },
  {
   "cell_type": "code",
   "execution_count": null,
   "id": "cd40cb02",
   "metadata": {},
   "outputs": [],
   "source": [
    "# Ejemplo: [1,2,3] y [2,3,4] -> [2,3]\n",
    "# Tu código aquí"
   ]
  },
  {
   "cell_type": "markdown",
   "id": "8933e6dd",
   "metadata": {},
   "source": [
    "### Ejercicio 4\n",
    "Resolver el mismo ejercicio anterior pero usando `set`."
   ]
  },
  {
   "cell_type": "code",
   "execution_count": null,
   "id": "51bad124",
   "metadata": {},
   "outputs": [],
   "source": [
    "# Tu código aquí"
   ]
  }
 ],
 "metadata": {
  "kernelspec": {
   "display_name": "Python 3 (ipykernel)",
   "language": "python",
   "name": "python3"
  },
  "language_info": {
   "codemirror_mode": {
    "name": "ipython",
    "version": 3
   },
   "file_extension": ".py",
   "mimetype": "text/x-python",
   "name": "python",
   "nbconvert_exporter": "python",
   "pygments_lexer": "ipython3",
   "version": "3.12.7"
  }
 },
 "nbformat": 4,
 "nbformat_minor": 5
}
