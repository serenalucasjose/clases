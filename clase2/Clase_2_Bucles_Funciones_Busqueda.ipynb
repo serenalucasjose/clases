{
 "cells": [
  {
   "cell_type": "markdown",
   "id": "c0de2cae",
   "metadata": {},
   "source": [
    "# Clase 2: Bucles, Funciones y Búsqueda en Listas"
   ]
  },
  {
   "cell_type": "markdown",
   "id": "c60f8f83",
   "metadata": {},
   "source": [
    "## 1. Bucle `for`\n",
    "Un bucle nos permite repetir una acción varias veces. El bucle `for` sirve para recorrer elementos de una lista."
   ]
  },
  {
   "cell_type": "code",
   "execution_count": null,
   "id": "40191bf5",
   "metadata": {},
   "outputs": [],
   "source": [
    "numeros = [1, 2, 3, 4, 5]\n",
    "for numero in numeros:\n",
    "    print(numero)"
   ]
  },
  {
   "cell_type": "markdown",
   "id": "3d2a57a7",
   "metadata": {},
   "source": [
    "Podemos usarlo para hacer operaciones con los elementos de una lista."
   ]
  },
  {
   "cell_type": "code",
   "execution_count": null,
   "id": "7edb8760",
   "metadata": {},
   "outputs": [],
   "source": [
    "suma = 0\n",
    "for numero in numeros:\n",
    "    suma += numero\n",
    "print(\"Suma:\", suma)"
   ]
  },
  {
   "cell_type": "code",
   "execution_count": 1,
   "id": "3bd6dae6-6ce2-4bdc-9718-3e28e28007b1",
   "metadata": {},
   "outputs": [
    {
     "name": "stdout",
     "output_type": "stream",
     "text": [
      "1\n"
     ]
    }
   ],
   "source": [
    "suma=1\n",
    "print(suma)"
   ]
  },
  {
   "cell_type": "markdown",
   "id": "f9aafa09",
   "metadata": {},
   "source": [
    "## 2. Funciones\n",
    "Una **función** es un bloque de código que realiza una tarea específica. Se define con `def`."
   ]
  },
  {
   "cell_type": "code",
   "execution_count": null,
   "id": "737ca2d6",
   "metadata": {},
   "outputs": [],
   "source": [
    "def saludar(nombre):\n",
    "    print(f\"Hola, {nombre}!\")\n",
    "\n",
    "saludar(\"Lucía\")"
   ]
  },
  {
   "cell_type": "markdown",
   "id": "d8d40235",
   "metadata": {},
   "source": [
    "También puede devolver valores:"
   ]
  },
  {
   "cell_type": "code",
   "execution_count": null,
   "id": "c4f02e71",
   "metadata": {},
   "outputs": [],
   "source": [
    "def cuadrado(n):\n",
    "    return n * n\n",
    "\n",
    "print(cuadrado(4))"
   ]
  },
  {
   "cell_type": "markdown",
   "id": "c85c901f",
   "metadata": {},
   "source": [
    "## 3. Recursión\n",
    "La **recursión** es cuando una función se llama a sí misma. Es útil cuando un problema se puede dividir en subproblemas similares.\n",
    "\n",
    "Ejemplo: el factorial de un número `n` (n!) se define como:\n",
    "\n",
    "- `0! = 1`\n",
    "- `n! = n * (n - 1)!`"
   ]
  },
  {
   "cell_type": "code",
   "execution_count": null,
   "id": "c29009fa",
   "metadata": {},
   "outputs": [],
   "source": [
    "def factorial(n):\n",
    "    if n == 0:\n",
    "        return 1\n",
    "    else:\n",
    "        return n * factorial(n - 1)\n",
    "\n",
    "print(factorial(5))  # 120"
   ]
  },
  {
   "cell_type": "markdown",
   "id": "9fa63f78",
   "metadata": {},
   "source": [
    "## 4. Búsqueda lineal en listas\n",
    "La búsqueda lineal consiste en recorrer una lista y comparar cada elemento con el valor que buscamos."
   ]
  },
  {
   "cell_type": "code",
   "execution_count": null,
   "id": "20d897fb",
   "metadata": {},
   "outputs": [],
   "source": [
    "def buscar(lista, objetivo):\n",
    "    for elemento in lista:\n",
    "        if elemento == objetivo:\n",
    "            return True\n",
    "    return False\n",
    "\n",
    "print(buscar([1, 2, 3, 4], 3))  # True\n",
    "print(buscar([1, 2, 3, 4], 5))  # False"
   ]
  },
  {
   "cell_type": "markdown",
   "id": "db7ba2aa",
   "metadata": {},
   "source": [
    "También podemos devolver el **índice** si lo encontramos:"
   ]
  },
  {
   "cell_type": "code",
   "execution_count": null,
   "id": "84bd5f90",
   "metadata": {},
   "outputs": [],
   "source": [
    "def buscar_indice(lista, objetivo):\n",
    "    for i in range(len(lista)):\n",
    "        if lista[i] == objetivo:\n",
    "            return i\n",
    "    return -1\n",
    "\n",
    "print(buscar_indice([10, 20, 30], 20))  # 1"
   ]
  },
  {
   "cell_type": "markdown",
   "id": "6616aa53",
   "metadata": {},
   "source": [
    "## 5. Ejercicios\n"
   ]
  },
  {
   "cell_type": "markdown",
   "id": "989b547f",
   "metadata": {},
   "source": [
    "### Ejercicio 1\n",
    "Escribí un `for` que imprima todos los caracteres de una palabra."
   ]
  },
  {
   "cell_type": "code",
   "execution_count": null,
   "id": "a59c86e0",
   "metadata": {},
   "outputs": [],
   "source": [
    "# Tu código aquí"
   ]
  },
  {
   "cell_type": "markdown",
   "id": "db56dba1",
   "metadata": {},
   "source": [
    "### Ejercicio 2\n",
    "Crear una función que reciba una lista de números y devuelva cuántos son pares."
   ]
  },
  {
   "cell_type": "code",
   "execution_count": null,
   "id": "c8c5446f",
   "metadata": {},
   "outputs": [],
   "source": [
    "# Tu código aquí"
   ]
  },
  {
   "cell_type": "markdown",
   "id": "e4e929e6",
   "metadata": {},
   "source": [
    "### Ejercicio 3\n",
    "Crear una función recursiva que calcule el factorial de un número."
   ]
  },
  {
   "cell_type": "code",
   "execution_count": null,
   "id": "848b9329",
   "metadata": {},
   "outputs": [],
   "source": [
    "# Tu código aquí"
   ]
  },
  {
   "cell_type": "markdown",
   "id": "580d9fe4",
   "metadata": {},
   "source": [
    "### Ejercicio 4\n",
    "Implementá una función que busque un número en una lista y devuelva `True` si está, o `False` si no está."
   ]
  },
  {
   "cell_type": "code",
   "execution_count": null,
   "id": "026bf4f3",
   "metadata": {},
   "outputs": [],
   "source": [
    "# Tu código aquí"
   ]
  },
  {
   "cell_type": "markdown",
   "id": "cf97196b",
   "metadata": {},
   "source": [
    "### Ejercicio 5\n",
    "Implementá una función `buscar_indice` que devuelva el índice de un número en una lista. Si no está, debe devolver `-1`."
   ]
  },
  {
   "cell_type": "code",
   "execution_count": null,
   "id": "708e5f84",
   "metadata": {},
   "outputs": [],
   "source": [
    "# Tu código aquí"
   ]
  }
 ],
 "metadata": {
  "kernelspec": {
   "display_name": "Python 3 (ipykernel)",
   "language": "python",
   "name": "python3"
  },
  "language_info": {
   "codemirror_mode": {
    "name": "ipython",
    "version": 3
   },
   "file_extension": ".py",
   "mimetype": "text/x-python",
   "name": "python",
   "nbconvert_exporter": "python",
   "pygments_lexer": "ipython3",
   "version": "3.12.7"
  }
 },
 "nbformat": 4,
 "nbformat_minor": 5
}
