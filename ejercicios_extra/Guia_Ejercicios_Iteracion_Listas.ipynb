{
 "cells": [
  {
   "cell_type": "markdown",
   "id": "9d07ed8c",
   "metadata": {},
   "source": [
    "# Guía de ejercicios: Iteración y trabajo con listas"
   ]
  },
  {
   "cell_type": "markdown",
   "id": "6b946b16",
   "metadata": {},
   "source": [
    "## Objetivo\n",
    "Refuerzo de lo visto en la Clase 2, trabajando específicamente con:\n",
    "- Iteración con `for` y `while`\n",
    "- Comparación entre elementos de una lista\n",
    "- Uso de índices"
   ]
  },
  {
   "cell_type": "markdown",
   "id": "d86a5723",
   "metadata": {},
   "source": [
    "## Ejercicio 1\n",
    "Recorrer una lista con `for` e imprimir cada elemento."
   ]
  },
  {
   "cell_type": "code",
   "execution_count": null,
   "id": "c7e77b7c",
   "metadata": {},
   "outputs": [],
   "source": [
    "numeros = [4, 7, 2, 9, 1]\n",
    "# Tu código aquí"
   ]
  },
  {
   "cell_type": "markdown",
   "id": "e5b563e6",
   "metadata": {},
   "source": [
    "## Ejercicio 2\n",
    "Recorrer una lista con `while` e imprimir cada elemento."
   ]
  },
  {
   "cell_type": "code",
   "execution_count": null,
   "id": "57af0b35",
   "metadata": {},
   "outputs": [],
   "source": [
    "nombres = [\"Ana\", \"Luis\", \"Carlos\", \"Marta\"]\n",
    "# Tu código aquí"
   ]
  },
  {
   "cell_type": "markdown",
   "id": "1da68f6e",
   "metadata": {},
   "source": [
    "## Ejercicio 3\n",
    "Imprimir solo los elementos que sean mayores a 5. `for` loop."
   ]
  },
  {
   "cell_type": "code",
   "execution_count": null,
   "id": "b067d871",
   "metadata": {},
   "outputs": [],
   "source": [
    "numeros = [3, 10, 2, 8, 6, 1]\n",
    "# Tu código aquí"
   ]
  },
  {
   "cell_type": "markdown",
   "id": "0244c8af",
   "metadata": {},
   "source": [
    "## Ejercicio 4\n",
    "Imprimir el índice y el valor de cada elemento usando. `for` loop"
   ]
  },
  {
   "cell_type": "code",
   "execution_count": null,
   "id": "306ee484",
   "metadata": {},
   "outputs": [],
   "source": [
    "colores = [\"rojo\", \"verde\", \"azul\"]\n",
    "# Tu código aquí"
   ]
  },
  {
   "cell_type": "markdown",
   "id": "a7ee8588",
   "metadata": {},
   "source": [
    "## Ejercicio 5\n",
    "Imprimir la diferencia entre cada elemento y el anterior en la lista. `while` loop. (Cuidado con el primer y el ultimo elemento)"
   ]
  },
  {
   "cell_type": "code",
   "execution_count": null,
   "id": "8c4a605f",
   "metadata": {},
   "outputs": [],
   "source": [
    "datos = [100, 105, 98, 102]\n",
    "# Tu código aquí"
   ]
  },
  {
   "cell_type": "markdown",
   "id": "e2879333",
   "metadata": {},
   "source": [
    "## Ejercicio 6\n",
    "Imprimir los elementos que sean mayores que el siguiente. `while` loop. (Cuidado con los extremos de la lista)"
   ]
  },
  {
   "cell_type": "code",
   "execution_count": null,
   "id": "de3bc071",
   "metadata": {},
   "outputs": [],
   "source": [
    "temperaturas = [22, 21, 25, 20, 23]\n",
    "# Tu código aquí"
   ]
  },
  {
   "cell_type": "markdown",
   "id": "cea94f15",
   "metadata": {},
   "source": [
    "## Ejercicio 7\n",
    "Imprimir los elementos que sean mayores que el anterior. `while` loop. (Cuidado con los extremos de la lista)"
   ]
  },
  {
   "cell_type": "code",
   "execution_count": null,
   "id": "d275b667",
   "metadata": {},
   "outputs": [],
   "source": [
    "alturas = [160, 165, 164, 170, 168]\n",
    "# Tu código aquí"
   ]
  },
  {
   "cell_type": "markdown",
   "id": "90f64316",
   "metadata": {},
   "source": [
    "## Ejercicio 8\n",
    "Imprimir los elementos junto con su vecino anterior y su vecino siguiente. (Cuidado con los extremos de la lista). `while` loop."
   ]
  },
  {
   "cell_type": "code",
   "execution_count": null,
   "id": "5450ffa3",
   "metadata": {},
   "outputs": [],
   "source": [
    "numeros = [10, 20, 30, 40, 50]\n",
    "# Tu código aquí"
   ]
  },
  {
   "cell_type": "markdown",
   "id": "4d7d12c7",
   "metadata": {},
   "source": [
    "## Ejercicio 9\n",
    "Contar cuántos elementos aumentan con respecto al anterior. `while` loop."
   ]
  },
  {
   "cell_type": "code",
   "execution_count": null,
   "id": "ebf7ea84",
   "metadata": {},
   "outputs": [],
   "source": [
    "precios = [100, 102, 101, 103, 107]\n",
    "# Tu código aquí"
   ]
  },
  {
   "cell_type": "markdown",
   "id": "e767c4af",
   "metadata": {},
   "source": [
    "## Ejercicio 10\n",
    "Dada una lista, crear una nueva con la suma del elemento actual y el siguiente. `while` loop."
   ]
  },
  {
   "cell_type": "code",
   "execution_count": null,
   "id": "1522c16c",
   "metadata": {},
   "outputs": [],
   "source": [
    "original = [1, 3, 5, 7, 9]\n",
    "# Resultado esperado: [4, 8, 12, 16]\n",
    "# Tu código aquí"
   ]
  },
  {
   "cell_type": "markdown",
   "id": "e2e0c097",
   "metadata": {},
   "source": [
    "## Ejercicio 11\n",
    "Crear una función que devuelva `True` si una lista está ordenada de menor a mayor. La funcion debe usar un `for` loop."
   ]
  },
  {
   "cell_type": "code",
   "execution_count": null,
   "id": "fb1717fa",
   "metadata": {},
   "outputs": [],
   "source": [
    "# Tu código aquí"
   ]
  },
  {
   "cell_type": "markdown",
   "id": "cc48662e",
   "metadata": {},
   "source": [
    "## Ejercicio 12\n",
    "Crear una función que cuente cuántos elementos consecutivos son iguales. La funcion debe usar un `for` loop."
   ]
  },
  {
   "cell_type": "code",
   "execution_count": null,
   "id": "39b08a4e",
   "metadata": {},
   "outputs": [],
   "source": [
    "letras = [\"a\", \"a\", \"b\", \"b\", \"b\", \"c\"]\n",
    "# Resultado esperado: 2 bloques de duplicados (a y b)\n",
    "# Tu código aquí"
   ]
  },
  {
   "cell_type": "markdown",
   "id": "84dad258",
   "metadata": {},
   "source": [
    "## Ejercicio 13\n",
    "Imprimir cada segundo elemento de una lista usando índices. Imprimir el primero y luego cada 2. Cuidado con los extremos de la lista. Usar un `while` loop."
   ]
  },
  {
   "cell_type": "code",
   "execution_count": null,
   "id": "300e3683",
   "metadata": {},
   "outputs": [],
   "source": [
    "valores = [0, 1, 2, 3, 4, 5, 6, 7, 8]\n",
    "# Resultado esperado: 0, 2, 4, 6, 8\n",
    "# Tu código aquí"
   ]
  }
 ],
 "metadata": {
  "kernelspec": {
   "display_name": "Python 3 (ipykernel)",
   "language": "python",
   "name": "python3"
  },
  "language_info": {
   "codemirror_mode": {
    "name": "ipython",
    "version": 3
   },
   "file_extension": ".py",
   "mimetype": "text/x-python",
   "name": "python",
   "nbconvert_exporter": "python",
   "pygments_lexer": "ipython3",
   "version": "3.12.7"
  }
 },
 "nbformat": 4,
 "nbformat_minor": 5
}
