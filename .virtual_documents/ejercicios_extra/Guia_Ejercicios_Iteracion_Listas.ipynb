








numeros = [4, 7, 2, 9, 1]
# Tu código aquí





nombres = ["Ana", "Luis", "Carlos", "Marta"]
# Tu código aquí





numeros = [3, 10, 2, 8, 6, 1]
# Tu código aquí





colores = ["rojo", "verde", "azul"]
# Tu código aquí





datos = [100, 105, 98, 102]
# Tu código aquí





temperaturas = [22, 21, 25, 20, 23]
# Tu código aquí





alturas = [160, 165, 164, 170, 168]
# Tu código aquí





numeros = [10, 20, 30, 40, 50]
# Tu código aquí





precios = [100, 102, 101, 103, 107]
# Tu código aquí





original = [1, 3, 5, 7, 9]
# Resultado esperado: [4, 8, 12, 16]
# Tu código aquí





# Tu código aquí





letras = ["a", "a", "b", "b", "b", "c"]
# Resultado esperado: 2 bloques de duplicados (a y b)
# Tu código aquí





valores = [0, 1, 2, 3, 4, 5, 6, 7, 8]
# Resultado esperado: 0, 2, 4, 6, 8
# Tu código aquí



