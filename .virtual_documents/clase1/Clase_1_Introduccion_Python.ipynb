








print("Hola, mundo")  # Tu primer programa





nombre = "Lucía"
edad = 30
pi = 3.14
activo = True
print(nombre, edad, pi, activo)





a = 10
b = 3
print("Suma:", a + b)
print("Resta:", a - b)
print("Multiplicación:", a * b)
print("División:", a / b)
print("Módulo:", a % b)
if (b%2==0):
    print("es par")
else:
    print("es impar")







numeros = [1, 2, 3, 4, 5]
print(numeros)
print("Primer número:", numeros[0])
print("segundo número:", numeros[1])
print("tercer número:", numeros[2])




nombres = ["lu", "aye", "maga"]
largo = len(nombres)

indice=0
while(indice<largo):
    print(nombres[indice])
    indice+=1
    
    














nombre= "Ayelen"
saludo="holu"

print(nombre)
print(nombre, saludo)





a=5
b=4
print((b*a)/2) 






numeros= [1, 2, 3, 4, 5, 6]
for numero in numeros:
    if numero%2==0:
        print(numero)
        







# range(1,11)
# suma=sum(range (1,11))
# print(suma)

suma=0
n=10
for i in range (1,n):
    suma += i
    print(suma) 






# Escribí tu código aquí
