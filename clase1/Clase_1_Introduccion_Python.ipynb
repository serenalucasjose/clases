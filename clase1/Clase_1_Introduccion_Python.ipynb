{
 "cells": [
  {
   "cell_type": "markdown",
   "id": "012b843a",
   "metadata": {},
   "source": [
    "# Clase 1: Introducción a la programación con Python"
   ]
  },
  {
   "cell_type": "markdown",
   "id": "01e4d366",
   "metadata": {},
   "source": [
    "## Objetivo\n",
    "Aprender los conceptos fundamentales de programación en Python y comenzar a desarrollar algoritmos básicos, con foco en ciencia de datos."
   ]
  },
  {
   "cell_type": "markdown",
   "id": "b1b6f657",
   "metadata": {},
   "source": [
    "## 1. ¿Qué es Python?\n",
    "Python es un lenguaje de programación de alto nivel, ampliamente utilizado en ciencia de datos, inteligencia artificial, automatización y desarrollo web. Su sintaxis clara lo hace ideal para principiantes."
   ]
  },
  {
   "cell_type": "code",
   "execution_count": 1,
   "id": "c7edd7b0",
   "metadata": {},
   "outputs": [
    {
     "name": "stdout",
     "output_type": "stream",
     "text": [
      "Hola, mundo\n"
     ]
    }
   ],
   "source": [
    "print(\"Hola, mundo\")  # Tu primer programa"
   ]
  },
  {
   "cell_type": "markdown",
   "id": "0b7d26d3",
   "metadata": {},
   "source": [
    "## 2. Variables y tipos de datos\n",
    "Una **variable** es un contenedor que guarda un valor. Python tiene varios tipos de datos:\n",
    "\n",
    "- Números enteros: `int`\n",
    "- Números decimales: `float`\n",
    "- Cadenas de texto: `str`\n",
    "- Booleanos: `bool`"
   ]
  },
  {
   "cell_type": "code",
   "execution_count": 2,
   "id": "15de4e7b",
   "metadata": {},
   "outputs": [
    {
     "name": "stdout",
     "output_type": "stream",
     "text": [
      "Lucía 30 3.14 True\n"
     ]
    }
   ],
   "source": [
    "nombre = \"Lucía\"\n",
    "edad = 30\n",
    "pi = 3.14\n",
    "activo = True\n",
    "print(nombre, edad, pi, activo)"
   ]
  },
  {
   "cell_type": "markdown",
   "id": "843c81ba",
   "metadata": {},
   "source": [
    "## 3. Operaciones básicas\n",
    "Podemos hacer operaciones matemáticas con variables numéricas:"
   ]
  },
  {
   "cell_type": "code",
   "execution_count": 9,
   "id": "73aca3d8",
   "metadata": {},
   "outputs": [
    {
     "name": "stdout",
     "output_type": "stream",
     "text": [
      "Suma: 13\n",
      "Resta: 7\n",
      "Multiplicación: 30\n",
      "División: 3.3333333333333335\n",
      "Módulo: 1\n",
      "es impar\n"
     ]
    }
   ],
   "source": [
    "a = 10\n",
    "b = 3\n",
    "print(\"Suma:\", a + b)\n",
    "print(\"Resta:\", a - b)\n",
    "print(\"Multiplicación:\", a * b)\n",
    "print(\"División:\", a / b)\n",
    "print(\"Módulo:\", a % b)\n",
    "if (b%2==0):\n",
    "    print(\"es par\")\n",
    "else:\n",
    "    print(\"es impar\")\n",
    "\n"
   ]
  },
  {
   "cell_type": "markdown",
   "id": "ef4796a2",
   "metadata": {},
   "source": [
    "## 4. Estructuras de datos: Listas\n",
    "Las **listas** son colecciones ordenadas de elementos. En matemáticas, podés pensar en ellas como **vectores**."
   ]
  },
  {
   "cell_type": "code",
   "execution_count": 14,
   "id": "81abe292",
   "metadata": {},
   "outputs": [
    {
     "name": "stdout",
     "output_type": "stream",
     "text": [
      "[1, 2, 3, 4, 5]\n",
      "Primer número: 1\n",
      "segundo número: 2\n",
      "tercer número: 3\n"
     ]
    }
   ],
   "source": [
    "numeros = [1, 2, 3, 4, 5]\n",
    "print(numeros)\n",
    "print(\"Primer número:\", numeros[0])\n",
    "print(\"segundo número:\", numeros[1])\n",
    "print(\"tercer número:\", numeros[2])\n",
    "\n"
   ]
  },
  {
   "cell_type": "code",
   "execution_count": 26,
   "id": "5a87e734-27e0-4635-876d-a090d1a06e5c",
   "metadata": {},
   "outputs": [
    {
     "name": "stdout",
     "output_type": "stream",
     "text": [
      "lu\n",
      "aye\n",
      "maga\n"
     ]
    }
   ],
   "source": [
    "nombres = [\"lu\", \"aye\", \"maga\"]\n",
    "largo = len(nombres)\n",
    "\n",
    "indice=0\n",
    "while(indice<largo):\n",
    "    print(nombres[indice])\n",
    "    indice+=1\n",
    "    \n",
    "    \n",
    "\n",
    "\n"
   ]
  },
  {
   "cell_type": "markdown",
   "id": "ed0a552d",
   "metadata": {},
   "source": [
    "## 5. ¿Qué es un algoritmo?\n",
    "Un algoritmo es una secuencia de pasos para resolver un problema. Por ejemplo, el algoritmo de **la Criba de Eratóstenes** permite encontrar todos los números primos menores a un número N.\n",
    "\n",
    "### Descripción:\n",
    "1. Escribir una lista de números desde 2 hasta N.\n",
    "2. Empezando en 2, eliminar todos sus múltiplos.\n",
    "3. Continuar con el siguiente número no tachado.\n",
    "4. Repetir hasta √N.\n",
    "5. Los números no tachados son los primos."
   ]
  },
  {
   "cell_type": "markdown",
   "id": "9cce1e93",
   "metadata": {},
   "source": [
    "## 6. Ejercicios\n",
    "Completá los siguientes ejercicios:"
   ]
  },
  {
   "cell_type": "markdown",
   "id": "50b63aad",
   "metadata": {},
   "source": [
    "### Ejercicio 1: Hola, tu nombre\n",
    "Crea una variable con tu nombre y mostrá un saludo."
   ]
  },
  {
   "cell_type": "code",
   "execution_count": 1,
   "id": "5579e60e",
   "metadata": {},
   "outputs": [
    {
     "name": "stdout",
     "output_type": "stream",
     "text": [
      "Ayelen\n",
      "Ayelen holu\n"
     ]
    }
   ],
   "source": [
    "nombre= \"Ayelen\"\n",
    "saludo=\"holu\"\n",
    "\n",
    "print(nombre)\n",
    "print(nombre, saludo)"
   ]
  },
  {
   "cell_type": "markdown",
   "id": "2591ed7b",
   "metadata": {},
   "source": [
    "### Ejercicio 2: Área de un triángulo\n",
    "Calculá el área de un triángulo con base y altura dadas."
   ]
  },
  {
   "cell_type": "code",
   "execution_count": 37,
   "id": "5a292a73",
   "metadata": {},
   "outputs": [
    {
     "name": "stdout",
     "output_type": "stream",
     "text": [
      "10.0\n"
     ]
    }
   ],
   "source": [
    "a=5\n",
    "b=4\n",
    "print((b*a)/2) "
   ]
  },
  {
   "cell_type": "markdown",
   "id": "a6ec59bb",
   "metadata": {},
   "source": [
    "### Ejercicio 3: Números pares en una lista\n",
    "Imprimí los números pares de la siguiente lista: `[1, 2, 3, 4, 5, 6]`"
   ]
  },
  {
   "cell_type": "code",
   "execution_count": 56,
   "id": "9d6e58e7",
   "metadata": {},
   "outputs": [
    {
     "name": "stdout",
     "output_type": "stream",
     "text": [
      "2\n",
      "4\n",
      "6\n"
     ]
    }
   ],
   "source": [
    "\n",
    "numeros= [1, 2, 3, 4, 5, 6]\n",
    "for numero in numeros:\n",
    "    if numero%2==0:\n",
    "        print(numero)\n",
    "        \n",
    "\n"
   ]
  },
  {
   "cell_type": "markdown",
   "id": "6ef78e20",
   "metadata": {},
   "source": [
    "### Ejercicio 4: Suma de los primeros N números\n",
    "Dado un número N, calculá la suma del 1 al N."
   ]
  },
  {
   "cell_type": "code",
   "execution_count": 11,
   "id": "b1511db8",
   "metadata": {},
   "outputs": [
    {
     "name": "stdout",
     "output_type": "stream",
     "text": [
      "1\n",
      "3\n",
      "6\n",
      "10\n",
      "15\n",
      "21\n",
      "28\n",
      "36\n",
      "45\n"
     ]
    }
   ],
   "source": [
    "# range(1,11)\n",
    "# suma=sum(range (1,11))\n",
    "# print(suma)\n",
    "\n",
    "suma=0\n",
    "n=10\n",
    "for i in range (1,n):\n",
    "    suma += i\n",
    "    print(suma) \n"
   ]
  },
  {
   "cell_type": "markdown",
   "id": "016b80f3",
   "metadata": {},
   "source": [
    "### Ejercicio 5: Criba de Eratóstenes\n",
    "Implementá el algoritmo explicado anteriormente para encontrar todos los números primos menores o iguales a N."
   ]
  },
  {
   "cell_type": "code",
   "execution_count": null,
   "id": "8b232a12",
   "metadata": {},
   "outputs": [],
   "source": [
    "# Escribí tu código aquí"
   ]
  }
 ],
 "metadata": {
  "kernelspec": {
   "display_name": "Python 3 (ipykernel)",
   "language": "python",
   "name": "python3"
  },
  "language_info": {
   "codemirror_mode": {
    "name": "ipython",
    "version": 3
   },
   "file_extension": ".py",
   "mimetype": "text/x-python",
   "name": "python",
   "nbconvert_exporter": "python",
   "pygments_lexer": "ipython3",
   "version": "3.12.7"
  }
 },
 "nbformat": 4,
 "nbformat_minor": 5
}
